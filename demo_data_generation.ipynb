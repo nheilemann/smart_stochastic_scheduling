{
 "cells": [
  {
   "cell_type": "markdown",
   "id": "aebaa5e9",
   "metadata": {},
   "source": [
    "# Create job_logs\n",
    "\n",
    "This code will create a CSV file named 'data_logs.csv'. 'Id', 'Key', and 'ProcessName' have the same value in each row. The 'ReleaseId' is a random 32-digit number. There are a total of 150 unique IDs. The number of entries for each ID is random and between 500 and 1,000. 'StartTime' and 'EndTime' are random dates between 01.01.2021 and 31.12.2022. 'DateDiff' is the difference in seconds between 'StartTime' and 'EndTime'. The average of this difference varies for each ID and is randomly between 30 and 2,400 seconds.\n",
    "\n",
    "Please note that generating a large amount of data might take some time."
   ]
  },
  {
   "cell_type": "code",
   "execution_count": 3,
   "id": "3230f1e5",
   "metadata": {},
   "outputs": [],
   "source": [
    "import pandas as pd\n",
    "import random\n",
    "import csv\n",
    "from datetime import datetime, timedelta\n",
    "\n",
    "# Function to generate a random date between start and end dates\n",
    "def random_date(start, end):\n",
    "    return start + timedelta(\n",
    "        seconds=random.randint(0, int((end - start).total_seconds())))\n",
    "\n",
    "# Function to generate start time, end time, and their difference in seconds\n",
    "def random_timedelta(avg_seconds, start_date, end_date):\n",
    "    start = random_date(start_date, end_date)\n",
    "    end = start + timedelta(seconds=random.gauss(avg_seconds, avg_seconds/10)) # Normal distribution with standard deviation 1/10 of the average\n",
    "    if end > end_date:\n",
    "        end = end_date\n",
    "    diff = (end - start).total_seconds()\n",
    "    return start, end, diff\n",
    "\n",
    "# Define the date range\n",
    "date_format = \"%d.%m.%Y\"\n",
    "start_date = datetime.strptime(\"01.01.2021\", date_format)\n",
    "end_date = datetime.strptime(\"31.12.2022\", date_format)\n",
    "\n",
    "data = []\n",
    "\n",
    "# Create 350 IDs\n",
    "for i in range(1, 151):\n",
    "    # Random number of entries for this ID\n",
    "    entries = random.randint(500, 1000)\n",
    "    # Random average difference for this ID\n",
    "    avg_seconds = random.randint(30, 2400)\n",
    "    for _ in range(entries):\n",
    "        start, end, diff = random_timedelta(avg_seconds, start_date, end_date)\n",
    "        # 32 digit random number\n",
    "        release_id = ''.join([\"%s\" % random.randint(0, 9) for num in range(0, 32)])\n",
    "        data.append([i, i, i, release_id, start, end, diff])\n",
    "\n",
    "# Write data to a CSV file\n",
    "with open('demo_data/data/job_logs.csv', 'w', newline='') as file:\n",
    "    writer = csv.writer(file)\n",
    "    writer.writerow([\"Id\", \"Key\", \"ProcessName\", \"ReleaseId\", \"StartTime\", \"EndTime\", \"DateDiff\"])\n",
    "    writer.writerows(data)\n"
   ]
  },
  {
   "cell_type": "markdown",
   "id": "c0938e95",
   "metadata": {},
   "source": [
    "# Create weekly_releases\n",
    "This script will create a csv named weekly_releases.csv. Each row in the file (excluding the header) will have the same value in all four columns, and these values will range from 1 to 350. Every row represents a rpa job which is run weekly."
   ]
  },
  {
   "cell_type": "code",
   "execution_count": 4,
   "id": "8167ce2a",
   "metadata": {},
   "outputs": [],
   "source": [
    "import csv\n",
    "\n",
    "# Specify the filename\n",
    "filename = \"demo_data/data/weekly_releases.csv\"\n",
    "\n",
    "# Specify the fieldnames\n",
    "fieldnames = [\"Id\", \"TenantId\", \"Key\", \"Name\"]\n",
    "\n",
    "# Open the file in write mode\n",
    "with open(filename, \"w\", newline='') as csv_file:\n",
    "    writer = csv.DictWriter(csv_file, fieldnames=fieldnames)\n",
    "\n",
    "    # Write the header\n",
    "    writer.writeheader()\n",
    "\n",
    "    # Write the rows\n",
    "    for i in range(1, 151):\n",
    "        writer.writerow({\"Id\": i, \"TenantId\": i, \"Key\": i, \"Name\": i})\n"
   ]
  },
  {
   "cell_type": "code",
   "execution_count": null,
   "id": "9a556bb5",
   "metadata": {},
   "outputs": [],
   "source": []
  }
 ],
 "metadata": {
  "kernelspec": {
   "display_name": "Python 3 (ipykernel)",
   "language": "python",
   "name": "python3"
  },
  "language_info": {
   "codemirror_mode": {
    "name": "ipython",
    "version": 3
   },
   "file_extension": ".py",
   "mimetype": "text/x-python",
   "name": "python",
   "nbconvert_exporter": "python",
   "pygments_lexer": "ipython3",
   "version": "3.9.13"
  }
 },
 "nbformat": 4,
 "nbformat_minor": 5
}
